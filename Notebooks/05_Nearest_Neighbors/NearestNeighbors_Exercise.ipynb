{
  "nbformat": 4,
  "nbformat_minor": 0,
  "metadata": {
    "colab": {
      "name": "kNN-Problems.ipynb",
      "provenance": [],
      "collapsed_sections": []
    },
    "kernelspec": {
      "display_name": "Python 3",
      "language": "python",
      "name": "python3"
    },
    "language_info": {
      "codemirror_mode": {
        "name": "ipython",
        "version": 3
      },
      "file_extension": ".py",
      "mimetype": "text/x-python",
      "name": "python",
      "nbconvert_exporter": "python",
      "pygments_lexer": "ipython3",
      "version": "3.7.3"
    }
  },
  "cells": [
    {
      "cell_type": "markdown",
      "metadata": {
        "colab_type": "text",
        "id": "3hHvV20eD58o"
      },
      "source": [
        "# Nearest Neighbors Problem Set"
      ]
    },
    {
      "cell_type": "code",
      "metadata": {
        "colab_type": "code",
        "id": "z1h_AAj_D4kX",
        "colab": {}
      },
      "source": [
        "# -- imports --\n",
        "import numpy as np\n",
        "import pandas as po\n",
        "import matplotlib.pyplot as plt\n",
        "\n",
        "# -- kNN --\n",
        "from sklearn.model_selection import train_test_split\n",
        "from sklearn.neighbors import KNeighborsClassifier\n",
        "from sklearn.metrics import accuracy_score"
      ],
      "execution_count": 1,
      "outputs": []
    },
    {
      "cell_type": "markdown",
      "metadata": {
        "id": "87tmgzNMb9tV",
        "colab_type": "text"
      },
      "source": [
        "## Problem 1\n",
        "\n",
        "Consider the following simple data-set:\n",
        "\n",
        "<img src=\"https://github.com/BeaverWorksMedlytics2020/Data_Public/raw/master/Images/Week1/knn_notebook_example_table.png\" alt=\"Example Table\" width=\"600\">\n",
        "\n",
        "Now consider the Sample:\n",
        "    $$X= 4, Y = 4, Z = 2$$"
      ]
    },
    {
      "cell_type": "markdown",
      "metadata": {
        "colab_type": "text",
        "id": "gqjait37Qws0"
      },
      "source": [
        "Using kNN, what is the class for this sample for $k = 1$ and $k = 3?$ Use the Eucledian metric.\n",
        "\n",
        "k=1: class 1, \n",
        "k=3: class 2"
      ]
    },
    {
      "cell_type": "markdown",
      "metadata": {
        "colab_type": "text",
        "id": "MtE0uiKuTWsI"
      },
      "source": [
        "## Problem 2\n",
        "Earlier in the tutorial we were told that kNN depends on several factors, one of them being $k$. Consider the following datasets below, find the optimal value of $k$ that gives the highest accuracy. Visualize your data! Can you come up with some rule for getting a good idea of what $k$ is? \n",
        "\n",
        "HINT: look for a pattern/bound! Answer should be in terms of the size of the dataset $n$. "
      ]
    },
    {
      "cell_type": "code",
      "metadata": {
        "id": "aapncOgUo_5r",
        "colab_type": "code",
        "colab": {}
      },
      "source": [
        "# Sovle this problem for each of these datasets\n",
        "from sklearn.datasets import load_iris \n",
        "from sklearn.datasets import load_breast_cancer\n",
        "from sklearn.datasets import load_wine \n",
        "\n",
        "# Load those datasets into some easily accessible variables\n",
        "#The datasets are already normalized, so that saves us some steps!\n",
        "iris = load_iris()                    #iris dataset: size = 150\n",
        "breast_cancer = load_breast_cancer()  #diabetes dataset: size = 569\n",
        "wine = load_wine()                    #wine dataset: size 178\n",
        "\n",
        "# This function will perfom KNN classification for a specified k\n",
        "def split_train_test_dataset(dataset, k, test_size=0.2):\n",
        "    \"\"\"Loads and performs KNN classification on the provided dataset\"\"\"\n",
        "    # Grab and split the dataset\n",
        "    X_train, X_val, y_train, y_val = train_test_split(\n",
        "        dataset.data, dataset.target, test_size=test_size, random_state=0)\n",
        "\n",
        "    # Build a KNN classifier, fit it and test its predictions\n",
        "    knn = KNeighborsClassifier(n_neighbors=k)\n",
        "    knn.fit(X_train, y_train)\n",
        "    print(\"Validation Accuracy is {:5.1%}\".format(\n",
        "        accuracy_score(y_val, knn.predict(X_val))))\n"
      ],
      "execution_count": 2,
      "outputs": []
    },
    {
      "cell_type": "code",
      "metadata": {
        "id": "lQk-b90Kgz-S",
        "colab_type": "code",
        "colab": {
          "base_uri": "https://localhost:8080/",
          "height": 967
        },
        "outputId": "77e21876-d248-45be-d48f-49819d1e4750"
      },
      "source": [
        "# your code here\n",
        "#size = 150, k = 1\n",
        "print(\"Iris\")\n",
        "split_train_test_dataset(iris, 1, test_size=0.2)\n",
        "split_train_test_dataset(iris, 2, test_size=0.2)\n",
        "split_train_test_dataset(iris, 3, test_size=0.2)\n",
        "split_train_test_dataset(iris, 4, test_size=0.2)\n",
        "split_train_test_dataset(iris, 5, test_size=0.2)\n",
        "split_train_test_dataset(iris, 6, test_size=0.2)\n",
        "split_train_test_dataset(iris, 7, test_size=0.2)\n",
        "split_train_test_dataset(iris, 8, test_size=0.2)\n",
        "split_train_test_dataset(iris, 9, test_size=0.2)\n",
        "split_train_test_dataset(iris, 10, test_size=0.2)\n",
        "split_train_test_dataset(iris, 11, test_size=0.2)\n",
        "split_train_test_dataset(iris, 12, test_size=0.2)\n",
        "split_train_test_dataset(iris, 13, test_size=0.2)\n",
        "split_train_test_dataset(iris, 14, test_size=0.2)\n",
        "split_train_test_dataset(iris, 15, test_size=0.2)\n",
        "split_train_test_dataset(iris, 16, test_size=0.2)\n",
        "split_train_test_dataset(iris, 17, test_size=0.2)\n",
        "\n",
        "#size = 569, k = 11\n",
        "print(\"Breast Cancer\")\n",
        "split_train_test_dataset(breast_cancer, 1, test_size=0.2)\n",
        "split_train_test_dataset(breast_cancer, 2, test_size=0.2)\n",
        "split_train_test_dataset(breast_cancer, 3, test_size=0.2)\n",
        "split_train_test_dataset(breast_cancer, 4, test_size=0.2)\n",
        "split_train_test_dataset(breast_cancer, 5, test_size=0.2)\n",
        "split_train_test_dataset(breast_cancer, 6, test_size=0.2)\n",
        "split_train_test_dataset(breast_cancer, 7, test_size=0.2)\n",
        "split_train_test_dataset(breast_cancer, 8, test_size=0.2)\n",
        "split_train_test_dataset(breast_cancer, 9, test_size=0.2)\n",
        "split_train_test_dataset(breast_cancer, 10, test_size=0.2)\n",
        "split_train_test_dataset(breast_cancer, 11, test_size=0.2)\n",
        "split_train_test_dataset(breast_cancer, 12, test_size=0.2)\n",
        "split_train_test_dataset(breast_cancer, 13, test_size=0.2)\n",
        "split_train_test_dataset(breast_cancer, 14, test_size=0.2)\n",
        "split_train_test_dataset(breast_cancer, 15, test_size=0.2)\n",
        "split_train_test_dataset(breast_cancer, 16, test_size=0.2)\n",
        "\n",
        "\n",
        "#size = 178, k = 5\n",
        "print(\"Wine\")\n",
        "split_train_test_dataset(wine, 1, test_size=0.2)\n",
        "split_train_test_dataset(wine, 2, test_size=0.2)\n",
        "split_train_test_dataset(wine, 3, test_size=0.2)\n",
        "split_train_test_dataset(wine, 4, test_size=0.2)\n",
        "split_train_test_dataset(wine, 5, test_size=0.2)\n",
        "split_train_test_dataset(wine, 6, test_size=0.2)\n",
        "split_train_test_dataset(wine, 7, test_size=0.2)\n",
        "split_train_test_dataset(wine, 8, test_size=0.2)\n",
        "split_train_test_dataset(wine, 9, test_size=0.2)\n",
        "split_train_test_dataset(wine, 10, test_size=0.2)\n",
        "split_train_test_dataset(wine, 11, test_size=0.2)\n",
        "split_train_test_dataset(wine, 12, test_size=0.2)\n",
        "split_train_test_dataset(wine, 13, test_size=0.2)\n",
        "split_train_test_dataset(wine, 14, test_size=0.2)\n",
        "split_train_test_dataset(wine, 15, test_size=0.2)\n",
        "split_train_test_dataset(wine, 16, test_size=0.2)\n",
        "split_train_test_dataset(wine, 17, test_size=0.2)\n",
        "split_train_test_dataset(wine, 18, test_size=0.2)\n",
        "\n",
        "split_train_test_dataset(wine, 19, test_size=0.2)\n",
        "\n",
        "split_train_test_dataset(wine, 20, test_size=0.2)\n",
        "\n",
        "split_train_test_dataset(wine, 21, test_size=0.2)\n",
        "#(150, 1), (178, 5), (569, 11)"
      ],
      "execution_count": 3,
      "outputs": [
        {
          "output_type": "stream",
          "text": [
            "Iris\n",
            "Validation Accuracy is 100.0%\n",
            "Validation Accuracy is 96.7%\n",
            "Validation Accuracy is 96.7%\n",
            "Validation Accuracy is 100.0%\n",
            "Validation Accuracy is 96.7%\n",
            "Validation Accuracy is 100.0%\n",
            "Validation Accuracy is 100.0%\n",
            "Validation Accuracy is 100.0%\n",
            "Validation Accuracy is 100.0%\n",
            "Validation Accuracy is 100.0%\n",
            "Validation Accuracy is 100.0%\n",
            "Validation Accuracy is 100.0%\n",
            "Validation Accuracy is 100.0%\n",
            "Validation Accuracy is 100.0%\n",
            "Validation Accuracy is 100.0%\n",
            "Validation Accuracy is 100.0%\n",
            "Validation Accuracy is 100.0%\n",
            "Breast Cancer\n",
            "Validation Accuracy is 91.2%\n",
            "Validation Accuracy is 89.5%\n",
            "Validation Accuracy is 91.2%\n",
            "Validation Accuracy is 92.1%\n",
            "Validation Accuracy is 93.9%\n",
            "Validation Accuracy is 93.9%\n",
            "Validation Accuracy is 94.7%\n",
            "Validation Accuracy is 94.7%\n",
            "Validation Accuracy is 96.5%\n",
            "Validation Accuracy is 94.7%\n",
            "Validation Accuracy is 96.5%\n",
            "Validation Accuracy is 96.5%\n",
            "Validation Accuracy is 96.5%\n",
            "Validation Accuracy is 96.5%\n",
            "Validation Accuracy is 96.5%\n",
            "Validation Accuracy is 96.5%\n",
            "Wine\n",
            "Validation Accuracy is 77.8%\n",
            "Validation Accuracy is 75.0%\n",
            "Validation Accuracy is 77.8%\n",
            "Validation Accuracy is 75.0%\n",
            "Validation Accuracy is 80.6%\n",
            "Validation Accuracy is 75.0%\n",
            "Validation Accuracy is 77.8%\n",
            "Validation Accuracy is 69.4%\n",
            "Validation Accuracy is 75.0%\n",
            "Validation Accuracy is 72.2%\n",
            "Validation Accuracy is 72.2%\n",
            "Validation Accuracy is 69.4%\n",
            "Validation Accuracy is 75.0%\n",
            "Validation Accuracy is 72.2%\n",
            "Validation Accuracy is 72.2%\n",
            "Validation Accuracy is 75.0%\n",
            "Validation Accuracy is 77.8%\n",
            "Validation Accuracy is 75.0%\n",
            "Validation Accuracy is 77.8%\n",
            "Validation Accuracy is 77.8%\n",
            "Validation Accuracy is 75.0%\n"
          ],
          "name": "stdout"
        }
      ]
    },
    {
      "cell_type": "markdown",
      "metadata": {
        "id": "n1_EbFlqzjAT",
        "colab_type": "text"
      },
      "source": [
        "Write a single mathematical expression describing the relationship you found between $n$ (the size of the dataset) and $k$ (the number of datapoints used to classify each validation datum).\n",
        "\n",
        "Plotted point of the first K value to produce the highest validation accuracy, against n on calculator. Did LnReg with r=0.95 and r^2=0.91.\n",
        "\n",
        "k=-30.9775+6.64796*ln(n)"
      ]
    },
    {
      "cell_type": "markdown",
      "metadata": {
        "colab_type": "text",
        "id": "-vDZy0F3eyeH"
      },
      "source": [
        "## Problem 3\n",
        "Now, we will **be writing our k-NNA**. Recall that we said a kNN is comprised of a predictions and using those predictions to classify the data. Here we will try to mimic sklearn's kNN methods. We will be using the Pima diabetes dataset. "
      ]
    },
    {
      "cell_type": "markdown",
      "metadata": {
        "id": "8YFfjG9G3lVO",
        "colab_type": "text"
      },
      "source": [
        "### Loading and splitting data"
      ]
    },
    {
      "cell_type": "code",
      "metadata": {
        "colab_type": "code",
        "id": "zbs8WICFgITd",
        "colab": {}
      },
      "source": [
        "# -- loading dataset -- #\n",
        "url = \"https://github.com/BeaverWorksMedlytics2020/Data_Public/raw/master/NotebookExampleData/Week1/diabetes.csv\"\n",
        "names = ['preg', 'plas', 'pres', 'skin', 'test', 'mass', 'pedi', 'age', 'class']\n",
        "data = po.read_csv(url, names=names)\n",
        "\n",
        "# -- dropping NaN rows -- #\n",
        "invalid = ['plas', 'pres', 'skin', 'test', 'mass']\n",
        "\n",
        "for i in invalid:\n",
        "    data[i].replace(to_replace=0, value=np.nan, inplace=True)\n",
        "    \n",
        "data = data.dropna(axis=0).reset_index(drop=True)"
      ],
      "execution_count": 4,
      "outputs": []
    },
    {
      "cell_type": "markdown",
      "metadata": {
        "id": "aSUwHL6-4P2F",
        "colab_type": "text"
      },
      "source": [
        "Now, let's clearly define which columns will act as explanatory variables, and which column will be the target value, and split the dataset between your training data and testing data. Let's try an 80-20 split and use sklearn's [train_test_split](http://scikit-learn.org/stable/modules/generated/sklearn.model_selection.train_test_split.html) method (set random_state = 0 so we get the same output each time)."
      ]
    },
    {
      "cell_type": "code",
      "metadata": {
        "colab_type": "code",
        "id": "9MXZjxRcgy78",
        "colab": {
          "base_uri": "https://localhost:8080/",
          "height": 67
        },
        "outputId": "91035bcc-d389-465e-a7e9-647577f68782"
      },
      "source": [
        "from sklearn.model_selection import train_test_split\n",
        "\n",
        "# columns we will use to make predictions with (features!) feel free to play around with these\n",
        "X_cols = ['preg', 'plas', 'pres', 'skin', 'test', 'mass', 'pedi', 'age']\n",
        "# column that we want to predict\n",
        "y_col = 'class'\n",
        "\n",
        "\n",
        "# split X and y into training and testing sets\n",
        "X_train, X_test, y_train, y_test = train_test_split(data[X_cols], data[y_col], test_size=0.2, random_state=0)\n",
        "\n",
        "# further split X and y of training into training and validation sets\n",
        "X_train, X_val, y_train, y_val = train_test_split(X_train, y_train, test_size=0.2, random_state=0)\n",
        "\n",
        "print('There are {} training samples with {} features and {} associated classification labels'.format(*X_train.shape, *y_train.shape))\n",
        "print('There are {} validation samples with {} features and {} associated classification labels'.format(*X_val.shape, *y_val.shape))\n",
        "print('There are {} test samples with {} features and {} associated classification labels'.format(*X_test.shape, *y_test.shape))"
      ],
      "execution_count": 5,
      "outputs": [
        {
          "output_type": "stream",
          "text": [
            "There are 250 training samples with 8 features and 250 associated classification labels\n",
            "There are 63 validation samples with 8 features and 63 associated classification labels\n",
            "There are 79 test samples with 8 features and 79 associated classification labels\n"
          ],
          "name": "stdout"
        }
      ]
    },
    {
      "cell_type": "markdown",
      "metadata": {
        "colab_type": "text",
        "id": "De_EJnYKgz_6"
      },
      "source": [
        "### Normalizing Data\n",
        "\n",
        "Let's not forget to normalize the data! We'll use sklearn's StandardScaler normalization like we did before to normalize the training **and** validation/data."
      ]
    },
    {
      "cell_type": "code",
      "metadata": {
        "colab_type": "code",
        "id": "6PD6-ibriBJO",
        "colab": {}
      },
      "source": [
        "from sklearn.preprocessing import StandardScaler\n",
        "\n",
        "scaler = StandardScaler()\n",
        "\n",
        "for i in list(X_train):\n",
        "    feature_data_train = X_train[i].values.reshape(-1, 1)\n",
        "    scaler.fit(feature_data_train)\n",
        "    X_train[i] = scaler.transform(feature_data_train)\n",
        "\n",
        "for j in list(X_test):\n",
        "    feature_data_test = X_test[j].values.reshape(-1, 1)\n",
        "    scaler.fit(feature_data_test)\n",
        "    X_test[j] = scaler.transform(feature_data_test)\n",
        "    \n",
        "for k in list(X_val):\n",
        "    feature_data_val = X_val[k].values.reshape(-1, 1)\n",
        "    scaler.fit(feature_data_val)\n",
        "    X_val[k] = scaler.transform(feature_data_val)"
      ],
      "execution_count": 6,
      "outputs": []
    },
    {
      "cell_type": "markdown",
      "metadata": {
        "colab_type": "text",
        "id": "hnv61aiiitxU"
      },
      "source": [
        "### Writing our kNN\n",
        "\n",
        "Now for the fun part! Fill in the 3 following methods, euclidean_dist(), predict(), and knn().\n",
        "\n",
        "The predict method that we'll make below needs to: \n",
        "1. Compute the euclidean distance between the “new” observation and all the data points in the training set. \n",
        "2. Assign the corresponding label to the observation\n",
        "3. Select the k nearest ones and perform a \"majority vote\""
      ]
    },
    {
      "cell_type": "code",
      "metadata": {
        "id": "xXkIw6zN3lVb",
        "colab_type": "code",
        "colab": {}
      },
      "source": [
        "# Euclidean distance function from tutorial\n",
        "def euclidean_dist(datum1, datum2):\n",
        "\n",
        "    inner_val = 0.0\n",
        "    \n",
        "    for g in range(datum1.shape[0]):\n",
        "        inner_val += (datum1[g]- datum2[g]) ** 2\n",
        "    \n",
        "    distance = np.sqrt(inner_val)\n",
        "    return(distance)"
      ],
      "execution_count": 47,
      "outputs": []
    },
    {
      "cell_type": "code",
      "metadata": {
        "colab_type": "code",
        "id": "FqJkm_ytjFgM",
        "colab": {}
      },
      "source": [
        "from collections import Counter\n",
        "\n",
        "def predict(x_training, y_training, x_test_sample, k):\n",
        "    \n",
        "    # create list for distances and targets\n",
        "    distances = []\n",
        "    targets = y_training.tolist()\n",
        "\n",
        "    ## YOUR CODE HERE\n",
        "\n",
        "\n",
        "    for i in range(x_training.shape[0]):\n",
        "      distances.append(euclidean_dist(x_test_sample, x_training.iloc[i]))\n",
        "\n",
        "    distances_sorted = sorted(distances)\n",
        "    class0 = []\n",
        "    class1 = []\n",
        "\n",
        "    for i in range(k):\n",
        "      if targets[distances.index(distances_sorted[i])] == 0:\n",
        "        class0.append(distances_sorted[i])\n",
        "      if targets[distances.index(distances_sorted[i])] == 1:\n",
        "        class1.append(distances_sorted[i])\n",
        "\n",
        "    if len(class0) > len(class1):\n",
        "      return 0\n",
        "    if len(class1) > len(class0):\n",
        "      return 1\n",
        "\n",
        "      "
      ],
      "execution_count": 97,
      "outputs": []
    },
    {
      "cell_type": "code",
      "metadata": {
        "id": "BguZLcRa3lVh",
        "colab_type": "code",
        "colab": {}
      },
      "source": [
        "def knn(x_training, y_training, x_testing, k):\n",
        "    \n",
        "    ## YOUR CODE HERE\n",
        "    predictions = []\n",
        "    for i in range(x_testing.shape[0]):\n",
        "      predictions.append(predict(x_training, y_training, x_testing.iloc[i], k))\n",
        "    return predictions"
      ],
      "execution_count": 98,
      "outputs": []
    },
    {
      "cell_type": "markdown",
      "metadata": {
        "colab_type": "text",
        "id": "4uhQZPIpjdo9"
      },
      "source": [
        "When done, test your code by running the methods here!"
      ]
    },
    {
      "cell_type": "code",
      "metadata": {
        "colab_type": "code",
        "id": "AHRJXVr7jcao",
        "colab": {
          "base_uri": "https://localhost:8080/",
          "height": 50
        },
        "outputId": "c683fac4-c5b9-4088-d550-f69b1cd87dbe"
      },
      "source": [
        "from sklearn.metrics import accuracy_score\n",
        "import time\n",
        "\n",
        "start = time.time()\n",
        "predictions_slow = knn(X_train, y_train, X_val, k=5)\n",
        "\n",
        "print('Took {} seconds'.format(time.time() - start))\n",
        "print(\"Validation Accuracy is \", accuracy_score(y_val,predictions_slow)*100)"
      ],
      "execution_count": 99,
      "outputs": [
        {
          "output_type": "stream",
          "text": [
            "Took 5.981427192687988 seconds\n",
            "Validation Accuracy is  80.95238095238095\n"
          ],
          "name": "stdout"
        }
      ]
    },
    {
      "cell_type": "markdown",
      "metadata": {
        "id": "2a51RcbJ3lVq",
        "colab_type": "text"
      },
      "source": [
        "Check sklearn's predictions on validation data from the tutorial notebook and make sure they match yours. Sklearn is faster, but you should get the same answers."
      ]
    }
  ]
}