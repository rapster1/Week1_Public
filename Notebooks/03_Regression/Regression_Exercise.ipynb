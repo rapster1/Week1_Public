{
  "nbformat": 4,
  "nbformat_minor": 0,
  "metadata": {
    "colab": {
      "name": "Regression_Exercise-1.ipynb",
      "provenance": []
    },
    "kernelspec": {
      "display_name": "Python 3",
      "language": "python",
      "name": "python3"
    },
    "language_info": {
      "codemirror_mode": {
        "name": "ipython",
        "version": 3
      },
      "file_extension": ".py",
      "mimetype": "text/x-python",
      "name": "python",
      "nbconvert_exporter": "python",
      "pygments_lexer": "ipython3",
      "version": "3.7.3"
    }
  },
  "cells": [
    {
      "cell_type": "markdown",
      "metadata": {
        "colab_type": "text",
        "id": "xTfQvqbXr9G1"
      },
      "source": [
        "# Regression Exercises"
      ]
    },
    {
      "cell_type": "markdown",
      "metadata": {
        "id": "-gCN1dWacqym",
        "colab_type": "text"
      },
      "source": [
        "## Linear"
      ]
    },
    {
      "cell_type": "code",
      "metadata": {
        "colab_type": "code",
        "id": "VohVqdqmr9G3",
        "colab": {
          "base_uri": "https://localhost:8080/",
          "height": 83
        },
        "outputId": "9af22e42-3443-4955-db8f-db677ed0fa58"
      },
      "source": [
        "# Loading data\n",
        "import pandas as pd\n",
        "import numpy as np\n",
        "from matplotlib import pyplot as plt\n",
        "\n",
        "# Read data from Github\n",
        "data_url = \"https://raw.githubusercontent.com/BeaverWorksMedlytics2020/Data_Public/master/NotebookExampleData/Week1/ex1data2.txt\"\n",
        "data_array = np.genfromtxt(data_url, delimiter=',')\n",
        "\n",
        "# The columns in this data set are define as folows:\n",
        "\"\"\"\n",
        "    0 = floor area\n",
        "    1 = number of bedrooms\n",
        "    2 = sale price\n",
        "\"\"\"\n",
        "    \n",
        "# store the relevant columns in more descriptive variables\n",
        "x_sqft = data_array[:,0]\n",
        "y_value = data_array[:,2]"
      ],
      "execution_count": 2,
      "outputs": [
        {
          "output_type": "stream",
          "text": [
            "[2104. 1600. 2400. 1416. 3000. 1985. 1534. 1427. 1380. 1494. 1940. 2000.\n",
            " 1890. 4478. 1268. 2300. 1320. 1236. 2609. 3031. 1767. 1888. 1604. 1962.\n",
            " 3890. 1100. 1458. 2526. 2200. 2637. 1839. 1000. 2040. 3137. 1811. 1437.\n",
            " 1239. 2132. 4215. 2162. 1664. 2238. 2567. 1200.  852. 1852. 1203.]\n"
          ],
          "name": "stdout"
        }
      ]
    },
    {
      "cell_type": "markdown",
      "metadata": {
        "colab_type": "text",
        "id": "bubHPtJ5r9G-"
      },
      "source": [
        "Here we'll build off of the tutorial exercise, first finding the best linear fit for floor area (sqft) vs valued price (USD). Recall that setting the derivative = 0 and solving for 𝑏 & 𝑚 produces formula for the best fit trend:\n",
        "$$ m = \\frac{\\sum^n_{i=1} (x_i-x_{mean})(y_i-y_{mean})}{\\sum^n_{i=1} (x_i-x_{mean})^2} $$\n",
        "$$ b = y_{mean}-m*x_{mean} $$"
      ]
    },
    {
      "cell_type": "code",
      "metadata": {
        "colab_type": "code",
        "id": "HaPeEPN8r9HA",
        "colab": {}
      },
      "source": [
        "def find_best_fit(xx,yy):\n",
        "    '''\n",
        "      This function finds the best linear fit for yy vs xx\n",
        "    '''\n",
        "  \n",
        "    ## YOUR CODE HERE\n",
        "    x_residuals = xx - xx.mean()\n",
        "    y_residuals = yy - yy.mean()\n",
        "    residuals_multiplied = np.multiply(x_residuals, y_residuals)\n",
        "    x_residuals_squared = np.multiply(x_residuals, x_residuals) \n",
        "\n",
        "    m = residuals_multiplied.sum() / (x_residuals_squared.sum())\n",
        "    b = y_value.mean() - m * xx.mean()\n",
        "    return (m, b)"
      ],
      "execution_count": 30,
      "outputs": []
    },
    {
      "cell_type": "code",
      "metadata": {
        "colab_type": "code",
        "id": "mfZ7t4F9r9HH",
        "colab": {
          "base_uri": "https://localhost:8080/",
          "height": 33
        },
        "outputId": "43fce728-3b55-4cfe-b0ee-0f67085066e5"
      },
      "source": [
        "# Use your function to show the best fit values for our data\n",
        "(mm,bb) = find_best_fit(x_sqft, y_value)\n",
        "fit_str = 'y = {aa:.1f}x + {bb:.1f}'\n",
        "print(fit_str.format(aa=mm,bb=bb))"
      ],
      "execution_count": 31,
      "outputs": [
        {
          "output_type": "stream",
          "text": [
            "y = 134.5x + 71270.5\n"
          ],
          "name": "stdout"
        }
      ]
    },
    {
      "cell_type": "markdown",
      "metadata": {
        "colab_type": "text",
        "id": "jVYEfrpsr9HN"
      },
      "source": [
        "Now we have the best fit trend line that minimizes total error for our data, let's try plotting it and see what it looks like. Since its just an equation, we need to *sample* the curve in order to plot it. To do this, we'll find the difference between the largest and smallest floor area, and divide it into 100 sample points."
      ]
    },
    {
      "cell_type": "code",
      "metadata": {
        "colab_type": "code",
        "id": "dZARuzL7r9HO",
        "colab": {
          "base_uri": "https://localhost:8080/",
          "height": 459
        },
        "outputId": "ce4216c2-3d7b-4a46-8aea-15f6ec2a5a20"
      },
      "source": [
        "# Plot the data\n",
        "plt.plot(x_sqft, y_value, \"ro\")\n",
        "# Sample the range from minimum to maximum sqft to get 100 points\n",
        "increment = (x_sqft.max() - x_sqft.min())/100\n",
        "sampleData = np.empty\n",
        "for i in range(1, 100):\n",
        "  sampleData = np.append(sampleData, i * increment + x_sqft.min())\n",
        "# Apply the best fit equation to each sample point and plot the result\n",
        "sample_y = [5, 5] * 134.5\n",
        "plt.plot(sampleData, sample_y)"
      ],
      "execution_count": 59,
      "outputs": [
        {
          "output_type": "error",
          "ename": "TypeError",
          "evalue": "ignored",
          "traceback": [
            "\u001b[0;31m---------------------------------------------------------------------------\u001b[0m",
            "\u001b[0;31mTypeError\u001b[0m                                 Traceback (most recent call last)",
            "\u001b[0;32m<ipython-input-59-dbffc77e1fb5>\u001b[0m in \u001b[0;36m<module>\u001b[0;34m()\u001b[0m\n\u001b[1;32m      7\u001b[0m   \u001b[0msampleData\u001b[0m \u001b[0;34m=\u001b[0m \u001b[0mnp\u001b[0m\u001b[0;34m.\u001b[0m\u001b[0mappend\u001b[0m\u001b[0;34m(\u001b[0m\u001b[0msampleData\u001b[0m\u001b[0;34m,\u001b[0m \u001b[0mi\u001b[0m \u001b[0;34m*\u001b[0m \u001b[0mincrement\u001b[0m \u001b[0;34m+\u001b[0m \u001b[0mx_sqft\u001b[0m\u001b[0;34m.\u001b[0m\u001b[0mmin\u001b[0m\u001b[0;34m(\u001b[0m\u001b[0;34m)\u001b[0m\u001b[0;34m)\u001b[0m\u001b[0;34m\u001b[0m\u001b[0;34m\u001b[0m\u001b[0m\n\u001b[1;32m      8\u001b[0m \u001b[0;31m# Apply the best fit equation to each sample point and plot the result\u001b[0m\u001b[0;34m\u001b[0m\u001b[0;34m\u001b[0m\u001b[0;34m\u001b[0m\u001b[0m\n\u001b[0;32m----> 9\u001b[0;31m \u001b[0msample_y\u001b[0m \u001b[0;34m=\u001b[0m \u001b[0;34m[\u001b[0m\u001b[0;36m5\u001b[0m\u001b[0;34m,\u001b[0m \u001b[0;36m5\u001b[0m\u001b[0;34m]\u001b[0m \u001b[0;34m*\u001b[0m \u001b[0;36m134.5\u001b[0m\u001b[0;34m\u001b[0m\u001b[0;34m\u001b[0m\u001b[0m\n\u001b[0m\u001b[1;32m     10\u001b[0m \u001b[0mplt\u001b[0m\u001b[0;34m.\u001b[0m\u001b[0mplot\u001b[0m\u001b[0;34m(\u001b[0m\u001b[0msampleData\u001b[0m\u001b[0;34m,\u001b[0m \u001b[0msample_y\u001b[0m\u001b[0;34m)\u001b[0m\u001b[0;34m\u001b[0m\u001b[0;34m\u001b[0m\u001b[0m\n",
            "\u001b[0;31mTypeError\u001b[0m: can't multiply sequence by non-int of type 'float'"
          ]
        },
        {
          "output_type": "display_data",
          "data": {
            "image/png": "[encoded data removed]",
            "text/plain": [
              "<Figure size 432x288 with 1 Axes>"
            ]
          },
          "metadata": {
            "tags": [],
            "needs_background": "light"
          }
        }
      ]
    },
    {
      "cell_type": "markdown",
      "metadata": {
        "colab_type": "text",
        "id": "ywlWE2xtr9HU"
      },
      "source": [
        "1: Given these parameters, how much should a house with 1600 sqft cost?\n",
        "\n",
        "(YOUR ANSWER HERE)"
      ]
    },
    {
      "cell_type": "code",
      "metadata": {
        "id": "ls3fH-HGqLk4",
        "colab_type": "code",
        "colab": {
          "base_uri": "https://localhost:8080/",
          "height": 33
        },
        "outputId": "a5ab6457-d8fc-431c-8b8e-dc8af3b538ce"
      },
      "source": [
        "134.5 * 1600 + 71270.5"
      ],
      "execution_count": 60,
      "outputs": [
        {
          "output_type": "execute_result",
          "data": {
            "text/plain": [
              "286470.5"
            ]
          },
          "metadata": {
            "tags": []
          },
          "execution_count": 60
        }
      ]
    },
    {
      "cell_type": "markdown",
      "metadata": {
        "colab_type": "text",
        "id": "J4rZ9L_Rr9HV"
      },
      "source": [
        "2: From the dataset, how much did a house with 1600 sqft actually cost?\n",
        "\n",
        "(YOUR ANSWER HERE)"
      ]
    },
    {
      "cell_type": "code",
      "metadata": {
        "id": "GfF8yJL0qS9P",
        "colab_type": "code",
        "colab": {
          "base_uri": "https://localhost:8080/",
          "height": 33
        },
        "outputId": "2a00a170-d041-475f-a636-af149f7d095c"
      },
      "source": [
        "y_value[1]"
      ],
      "execution_count": 61,
      "outputs": [
        {
          "output_type": "execute_result",
          "data": {
            "text/plain": [
              "329900.0"
            ]
          },
          "metadata": {
            "tags": []
          },
          "execution_count": 61
        }
      ]
    },
    {
      "cell_type": "markdown",
      "metadata": {
        "colab_type": "text",
        "id": "KTZMjw7rr9HW"
      },
      "source": [
        "3: Assuming the current 1600 sqft house would sell for as much as the historical one, how much money would we have lost? What percentage of the total price is this?\n",
        "\n",
        "$43429.50, \n",
        "15.16% (of modelled sale price)"
      ]
    },
    {
      "cell_type": "markdown",
      "metadata": {
        "colab_type": "text",
        "id": "UN9zGe6Mr9HY"
      },
      "source": [
        "Now compare the values for 𝑚 and 𝑏 that sklearn generated in the tutorial notebook with the values that you found just now with your function. Hopefully they match."
      ]
    },
    {
      "cell_type": "code",
      "metadata": {
        "colab_type": "code",
        "id": "CDw75BJrr9HZ",
        "colab": {},
        "outputId": "f725594e-5540-4afa-d662-9f8e4fd2e4f7"
      },
      "source": [
        "print(\"Sklearn:\",134.52528772, 71270.492448729)\n",
        "print(\"My function:\",mm,bb)"
      ],
      "execution_count": null,
      "outputs": [
        {
          "output_type": "stream",
          "text": [
            "Sklearn: 134.52528772 71270.492448729\n"
          ],
          "name": "stdout"
        }
      ]
    },
    {
      "cell_type": "markdown",
      "metadata": {
        "colab_type": "text",
        "id": "L5R8SjF9r9Hf"
      },
      "source": [
        "---\n",
        "Remember how despite adding an entire new variable, the $R^2$ value barely increased? Let's investigate this further by finding the correlation ($R^2$) value for a regression of square footage vs. number of bedrooms."
      ]
    },
    {
      "cell_type": "code",
      "metadata": {
        "colab_type": "code",
        "id": "gMPm_HXgr9Hg",
        "colab": {
          "base_uri": "https://localhost:8080/",
          "height": 33
        },
        "outputId": "20117d33-caf9-4743-8623-1ee396e11ed8"
      },
      "source": [
        "import sklearn.linear_model as lm\n",
        "\n",
        "## YOUR CODE HERE\n",
        "y_beds = data_array[:,1]\n",
        "model = lm.LinearRegression()\n",
        "x_sqft_shaped = x_sqft.reshape(-1,1)\n",
        "housepredictor = model.fit(x_sqft_shaped,y_beds)\n",
        "housepredictor.score(x_sqft_shaped,y_beds)"
      ],
      "execution_count": 66,
      "outputs": [
        {
          "output_type": "execute_result",
          "data": {
            "text/plain": [
              "0.3135632699338187"
            ]
          },
          "metadata": {
            "tags": []
          },
          "execution_count": 66
        }
      ]
    },
    {
      "cell_type": "markdown",
      "metadata": {
        "colab_type": "text",
        "id": "7QT8aPEQr9Hl"
      },
      "source": [
        "Do 2 variables have to be very correlated to reduce their effectiveness together?\n",
        "\n",
        "No?"
      ]
    },
    {
      "cell_type": "markdown",
      "metadata": {
        "colab_type": "text",
        "id": "HY_jT1uksAYu"
      },
      "source": [
        "## Logistic\n",
        "\n",
        "We are going to predict wheter or not someone has breast cancer using Logistical Regression! We are going to use sklearn's breast cancer dataset! It is up to you to decide what features to get the best results!"
      ]
    },
    {
      "cell_type": "code",
      "metadata": {
        "colab_type": "code",
        "id": "Pg6kfm6VAdhN",
        "colab": {
          "base_uri": "https://localhost:8080/",
          "height": 153
        },
        "outputId": "5aab648b-0c72-4e5e-d789-502b47bdc54d"
      },
      "source": [
        "from sklearn.datasets import load_breast_cancer #datasets\n",
        "from sklearn.model_selection import train_test_split\n",
        "from sklearn.linear_model import LogisticRegression\n",
        "\n",
        "data = load_breast_cancer()\n",
        "\n",
        "df = pd.DataFrame(data.data, columns=data.feature_names)\n",
        "df['target'] = pd.Series(data.target)\n",
        "\n",
        "X_cols = ['mean radius', 'mean texture']\n",
        "Y_cols = ['target']\n",
        "\n",
        "## YOUR CODE HERE\n",
        "test_size = .9\n",
        "X_train, X_val, y_train, y_val = train_test_split(df[X_cols], df[Y_cols], test_size=test_size, random_state=1)\n",
        "\n",
        "logreg = LogisticRegression()\n",
        "logreg.fit(X_train, y_train)\n",
        "\n"
      ],
      "execution_count": 97,
      "outputs": [
        {
          "output_type": "stream",
          "text": [
            "/usr/local/lib/python3.6/dist-packages/sklearn/utils/validation.py:760: DataConversionWarning: A column-vector y was passed when a 1d array was expected. Please change the shape of y to (n_samples, ), for example using ravel().\n",
            "  y = column_or_1d(y, warn=True)\n"
          ],
          "name": "stderr"
        },
        {
          "output_type": "execute_result",
          "data": {
            "text/plain": [
              "LogisticRegression(C=1.0, class_weight=None, dual=False, fit_intercept=True,\n",
              "                   intercept_scaling=1, l1_ratio=None, max_iter=100,\n",
              "                   multi_class='auto', n_jobs=None, penalty='l2',\n",
              "                   random_state=None, solver='lbfgs', tol=0.0001, verbose=0,\n",
              "                   warm_start=False)"
            ]
          },
          "metadata": {
            "tags": []
          },
          "execution_count": 97
        }
      ]
    },
    {
      "cell_type": "markdown",
      "metadata": {
        "colab_type": "text",
        "id": "kUZXPX46CUS9"
      },
      "source": [
        "Test your logistical regression! You must get an accuracy of > 80%"
      ]
    },
    {
      "cell_type": "code",
      "metadata": {
        "colab_type": "code",
        "id": "AnPoDu-CCTsE",
        "colab": {
          "base_uri": "https://localhost:8080/",
          "height": 33
        },
        "outputId": "01862a67-b966-45cf-a26f-d4931d0ca7f9"
      },
      "source": [
        "from sklearn.metrics import accuracy_score\n",
        "\n",
        "## YOUR CODE HERE\n",
        "y_val_pred=logreg.predict(X_val)\n",
        "print(\"Validation Accuracy is \", accuracy_score(y_val,y_val_pred)*100)"
      ],
      "execution_count": 98,
      "outputs": [
        {
          "output_type": "stream",
          "text": [
            "Validation Accuracy is  88.69395711500975\n"
          ],
          "name": "stdout"
        }
      ]
    }
  ]
}